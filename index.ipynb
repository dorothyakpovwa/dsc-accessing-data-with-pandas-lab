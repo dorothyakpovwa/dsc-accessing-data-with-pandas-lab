{
 "cells": [
  {
   "cell_type": "markdown",
   "metadata": {},
   "source": [
    "# Accessing Data within Pandas - Lab"
   ]
  },
  {
   "cell_type": "markdown",
   "metadata": {},
   "source": [
    "## Introduction\n",
    "\n",
    "In this lab, we'll look at a dataset which contains information on World Cup matches. Let's use the pandas commands learned in the previous lesson to learn more about our data!"
   ]
  },
  {
   "cell_type": "markdown",
   "metadata": {},
   "source": [
    "## Objectives\n",
    "\n",
    "You will be able to: \n",
    "\n",
    "- Use pandas methods and attributes to access information about a dataset \n",
    "- Index pandas dataframes with .loc, .iloc, and column names \n",
    "- Use a boolean mask to index pandas series and dataframes"
   ]
  },
  {
   "cell_type": "markdown",
   "metadata": {},
   "source": [
    "## Load the Data"
   ]
  },
  {
   "cell_type": "markdown",
   "metadata": {},
   "source": [
    "Load the file `'WorldCupMatches.csv'` as a DataFrame in pandas."
   ]
  },
  {
   "cell_type": "code",
   "execution_count": 3,
   "metadata": {},
   "outputs": [],
   "source": [
    "# Replace None with appropriate code\n",
    "\n",
    "# Import pandas using the standard alias\n",
    "import pandas as pd\n",
    "\n",
    "# Load 'WorldCupMatches.csv' as a DataFrame\n",
    "df = pd.read_csv('WorldCupMatches.csv')"
   ]
  },
  {
   "cell_type": "markdown",
   "metadata": {},
   "source": [
    "## Common Methods and Attributes"
   ]
  },
  {
   "cell_type": "markdown",
   "metadata": {},
   "source": [
    "Use the correct method to display the **first 7 rows** of the dataset."
   ]
  },
  {
   "cell_type": "code",
   "execution_count": 4,
   "metadata": {},
   "outputs": [
    {
     "name": "stdout",
     "output_type": "stream",
     "text": [
      "   Year              Datetime    Stage         Stadium         City  \\\n",
      "0  1930  13 Jul 1930 - 15:00   Group 1         Pocitos  Montevideo    \n",
      "1  1930  13 Jul 1930 - 15:00   Group 4  Parque Central  Montevideo    \n",
      "2  1930  14 Jul 1930 - 12:45   Group 2  Parque Central  Montevideo    \n",
      "3  1930  14 Jul 1930 - 14:50   Group 3         Pocitos  Montevideo    \n",
      "4  1930  15 Jul 1930 - 16:00   Group 1  Parque Central  Montevideo    \n",
      "5  1930  16 Jul 1930 - 14:45   Group 1  Parque Central  Montevideo    \n",
      "6  1930  17 Jul 1930 - 12:45   Group 2  Parque Central  Montevideo    \n",
      "\n",
      "  Home Team Name  Home Team Goals  Away Team Goals Away Team Name  \\\n",
      "0         France                4                1         Mexico   \n",
      "1            USA                3                0        Belgium   \n",
      "2     Yugoslavia                2                1         Brazil   \n",
      "3        Romania                3                1           Peru   \n",
      "4      Argentina                1                0         France   \n",
      "5          Chile                3                0         Mexico   \n",
      "6     Yugoslavia                4                0        Bolivia   \n",
      "\n",
      "  Win conditions  Attendance  Half-time Home Goals  Half-time Away Goals  \\\n",
      "0                     4444.0                     3                     0   \n",
      "1                    18346.0                     2                     0   \n",
      "2                    24059.0                     2                     0   \n",
      "3                     2549.0                     1                     0   \n",
      "4                    23409.0                     0                     0   \n",
      "5                     9249.0                     1                     0   \n",
      "6                    18306.0                     0                     0   \n",
      "\n",
      "                    Referee               Assistant 1  \\\n",
      "0    LOMBARDI Domingo (URU)     CRISTOPHE Henry (BEL)   \n",
      "1         MACIAS Jose (ARG)  MATEUCCI Francisco (URU)   \n",
      "2       TEJADA Anibal (URU)   VALLARINO Ricardo (URU)   \n",
      "3     WARNKEN Alberto (CHI)       LANGENUS Jean (BEL)   \n",
      "4       REGO Gilberto (BRA)      SAUCEDO Ulises (BOL)   \n",
      "5     CRISTOPHE Henry (BEL)   APHESTEGUY Martin (URU)   \n",
      "6  MATEUCCI Francisco (URU)    LOMBARDI Domingo (URU)   \n",
      "\n",
      "                  Assistant 2  RoundID  MatchID Home Team Initials  \\\n",
      "0         REGO Gilberto (BRA)      201     1096                FRA   \n",
      "1       WARNKEN Alberto (CHI)      201     1090                USA   \n",
      "2         BALWAY Thomas (FRA)      201     1093                YUG   \n",
      "3    MATEUCCI Francisco (URU)      201     1098                ROU   \n",
      "4  RADULESCU Constantin (ROU)      201     1085                ARG   \n",
      "5         LANGENUS Jean (BEL)      201     1095                CHI   \n",
      "6       WARNKEN Alberto (CHI)      201     1092                YUG   \n",
      "\n",
      "  Away Team Initials  \n",
      "0                MEX  \n",
      "1                BEL  \n",
      "2                BRA  \n",
      "3                PER  \n",
      "4                FRA  \n",
      "5                MEX  \n",
      "6                BOL  \n"
     ]
    }
   ],
   "source": [
    "# Your code here\n",
    "print(df.head(7))"
   ]
  },
  {
   "cell_type": "markdown",
   "metadata": {},
   "source": [
    "Display the **last 3 rows** of the dataset."
   ]
  },
  {
   "cell_type": "code",
   "execution_count": 5,
   "metadata": {},
   "outputs": [
    {
     "name": "stdout",
     "output_type": "stream",
     "text": [
      "     Year              Datetime                     Stage  \\\n",
      "849  2014  09 Jul 2014 - 17:00                Semi-finals   \n",
      "850  2014  12 Jul 2014 - 17:00   Play-off for third place   \n",
      "851  2014  13 Jul 2014 - 16:00                      Final   \n",
      "\n",
      "                 Stadium             City Home Team Name  Home Team Goals  \\\n",
      "849   Arena de Sao Paulo       Sao Paulo     Netherlands                0   \n",
      "850     Estadio Nacional        Brasilia          Brazil                0   \n",
      "851  Estadio do Maracana  Rio De Janeiro         Germany                1   \n",
      "\n",
      "     Away Team Goals Away Team Name                       Win conditions  \\\n",
      "849                0      Argentina  Argentina win on penalties (2 - 4)    \n",
      "850                3    Netherlands                                        \n",
      "851                0      Argentina        Germany win after extra time    \n",
      "\n",
      "     Attendance  Half-time Home Goals  Half-time Away Goals  \\\n",
      "849     63267.0                     0                     0   \n",
      "850     68034.0                     0                     2   \n",
      "851     74738.0                     0                     0   \n",
      "\n",
      "                   Referee            Assistant 1              Assistant 2  \\\n",
      "849     C�neyt �AKIR (TUR)   DURAN Bahattin (TUR)        ONGUN Tarik (TUR)   \n",
      "850  HAIMOUDI Djamel (ALG)   ACHIK Redouane (MAR)  ETCHIALI Abdelhak (ALG)   \n",
      "851   Nicola RIZZOLI (ITA)  Renato FAVERANI (ITA)     Andrea STEFANI (ITA)   \n",
      "\n",
      "     RoundID    MatchID Home Team Initials Away Team Initials  \n",
      "849   255955  300186490                NED                ARG  \n",
      "850   255957  300186502                BRA                NED  \n",
      "851   255959  300186501                GER                ARG  \n"
     ]
    }
   ],
   "source": [
    "# Your code here\n",
    "print(df.tail(3))"
   ]
  },
  {
   "cell_type": "markdown",
   "metadata": {},
   "source": [
    "Get a concise summary of the data using `.info()`. "
   ]
  },
  {
   "cell_type": "code",
   "execution_count": 6,
   "metadata": {},
   "outputs": [
    {
     "name": "stdout",
     "output_type": "stream",
     "text": [
      "<class 'pandas.core.frame.DataFrame'>\n",
      "RangeIndex: 852 entries, 0 to 851\n",
      "Data columns (total 20 columns):\n",
      " #   Column                Non-Null Count  Dtype  \n",
      "---  ------                --------------  -----  \n",
      " 0   Year                  852 non-null    int64  \n",
      " 1   Datetime              852 non-null    object \n",
      " 2   Stage                 852 non-null    object \n",
      " 3   Stadium               852 non-null    object \n",
      " 4   City                  852 non-null    object \n",
      " 5   Home Team Name        852 non-null    object \n",
      " 6   Home Team Goals       852 non-null    int64  \n",
      " 7   Away Team Goals       852 non-null    int64  \n",
      " 8   Away Team Name        852 non-null    object \n",
      " 9   Win conditions        852 non-null    object \n",
      " 10  Attendance            850 non-null    float64\n",
      " 11  Half-time Home Goals  852 non-null    int64  \n",
      " 12  Half-time Away Goals  852 non-null    int64  \n",
      " 13  Referee               852 non-null    object \n",
      " 14  Assistant 1           852 non-null    object \n",
      " 15  Assistant 2           852 non-null    object \n",
      " 16  RoundID               852 non-null    int64  \n",
      " 17  MatchID               852 non-null    int64  \n",
      " 18  Home Team Initials    852 non-null    object \n",
      " 19  Away Team Initials    852 non-null    object \n",
      "dtypes: float64(1), int64(7), object(12)\n",
      "memory usage: 133.2+ KB\n",
      "None\n"
     ]
    }
   ],
   "source": [
    "# Your code here\n",
    "print(df.info())"
   ]
  },
  {
   "cell_type": "markdown",
   "metadata": {},
   "source": [
    "Obtain a tuple representing the **number of rows and number of columns**."
   ]
  },
  {
   "cell_type": "code",
   "execution_count": 7,
   "metadata": {},
   "outputs": [
    {
     "name": "stdout",
     "output_type": "stream",
     "text": [
      "(852, 20)\n"
     ]
    }
   ],
   "source": [
    "# Your code here\n",
    "print(df.shape)"
   ]
  },
  {
   "cell_type": "markdown",
   "metadata": {},
   "source": [
    "Use the appropriate attribute to get the **column names**."
   ]
  },
  {
   "cell_type": "code",
   "execution_count": 8,
   "metadata": {},
   "outputs": [
    {
     "name": "stdout",
     "output_type": "stream",
     "text": [
      "Index(['Year', 'Datetime', 'Stage', 'Stadium', 'City', 'Home Team Name',\n",
      "       'Home Team Goals', 'Away Team Goals', 'Away Team Name',\n",
      "       'Win conditions', 'Attendance', 'Half-time Home Goals',\n",
      "       'Half-time Away Goals', 'Referee', 'Assistant 1', 'Assistant 2',\n",
      "       'RoundID', 'MatchID', 'Home Team Initials', 'Away Team Initials'],\n",
      "      dtype='object')\n"
     ]
    }
   ],
   "source": [
    "# Your code here\n",
    "print(df.columns)"
   ]
  },
  {
   "cell_type": "markdown",
   "metadata": {},
   "source": [
    "## Selecting DataFrame Information"
   ]
  },
  {
   "cell_type": "markdown",
   "metadata": {},
   "source": [
    "When looking at the DataFrame's `.head()` and `.tail()`, you might have noticed that the games are structured chronologically in the DataFrame.\n",
    "\n",
    "Use the right selection method to display all the information from the 3rd to the 5th game (i.e. **select rows 3 through 5 inclusive**)."
   ]
  },
  {
   "cell_type": "code",
   "execution_count": 9,
   "metadata": {},
   "outputs": [
    {
     "name": "stdout",
     "output_type": "stream",
     "text": [
      "   Year              Datetime    Stage         Stadium         City  \\\n",
      "2  1930  14 Jul 1930 - 12:45   Group 2  Parque Central  Montevideo    \n",
      "3  1930  14 Jul 1930 - 14:50   Group 3         Pocitos  Montevideo    \n",
      "4  1930  15 Jul 1930 - 16:00   Group 1  Parque Central  Montevideo    \n",
      "\n",
      "  Home Team Name  Home Team Goals  Away Team Goals Away Team Name  \\\n",
      "2     Yugoslavia                2                1         Brazil   \n",
      "3        Romania                3                1           Peru   \n",
      "4      Argentina                1                0         France   \n",
      "\n",
      "  Win conditions  Attendance  Half-time Home Goals  Half-time Away Goals  \\\n",
      "2                    24059.0                     2                     0   \n",
      "3                     2549.0                     1                     0   \n",
      "4                    23409.0                     0                     0   \n",
      "\n",
      "                 Referee              Assistant 1                 Assistant 2  \\\n",
      "2    TEJADA Anibal (URU)  VALLARINO Ricardo (URU)         BALWAY Thomas (FRA)   \n",
      "3  WARNKEN Alberto (CHI)      LANGENUS Jean (BEL)    MATEUCCI Francisco (URU)   \n",
      "4    REGO Gilberto (BRA)     SAUCEDO Ulises (BOL)  RADULESCU Constantin (ROU)   \n",
      "\n",
      "   RoundID  MatchID Home Team Initials Away Team Initials  \n",
      "2      201     1093                YUG                BRA  \n",
      "3      201     1098                ROU                PER  \n",
      "4      201     1085                ARG                FRA  \n"
     ]
    }
   ],
   "source": [
    "# Your code here\n",
    "print(df.iloc[2:5])"
   ]
  },
  {
   "cell_type": "markdown",
   "metadata": {},
   "source": [
    "Now, display the info from **game 5-9** (inclusive), but **only the `\"Home Team Name\"` and the `\"Away Team Name\"` columns**."
   ]
  },
  {
   "cell_type": "code",
   "execution_count": 10,
   "metadata": {},
   "outputs": [
    {
     "name": "stdout",
     "output_type": "stream",
     "text": [
      "  Home Team Name Away Team Name\n",
      "4      Argentina         France\n",
      "5          Chile         Mexico\n",
      "6     Yugoslavia        Bolivia\n",
      "7            USA       Paraguay\n",
      "8        Uruguay           Peru\n"
     ]
    }
   ],
   "source": [
    "# Your code here\n",
    "print(df.loc[4:8,[\"Home Team Name\", \"Away Team Name\"]])"
   ]
  },
  {
   "cell_type": "markdown",
   "metadata": {},
   "source": [
    "Next, we'd like the information on all the games played in **Group 3** for the **1950** World Cup."
   ]
  },
  {
   "cell_type": "markdown",
   "metadata": {},
   "source": [
    "Hint: You can combine conditions like this:\n",
    "\n",
    "`df[(condition1) | (condition2)]`  -> Returns rows where either condition is true\n",
    "\n",
    "`df[(condition1) & (condition2)]`  -> Returns rows where both conditions are true"
   ]
  },
  {
   "cell_type": "code",
   "execution_count": 12,
   "metadata": {},
   "outputs": [
    {
     "name": "stdout",
     "output_type": "stream",
     "text": [
      "    Year              Datetime    Stage           Stadium        City  \\\n",
      "56  1950  25 Jun 1950 - 15:00   Group 3          Pacaembu  Sao Paulo    \n",
      "61  1950  29 Jun 1950 - 15:30   Group 3  Durival de Brito   Curitiba    \n",
      "65  1950  02 Jul 1950 - 15:00   Group 3          Pacaembu  Sao Paulo    \n",
      "\n",
      "   Home Team Name  Home Team Goals  Away Team Goals Away Team Name  \\\n",
      "56         Sweden                3                2          Italy   \n",
      "61         Sweden                2                2       Paraguay   \n",
      "65          Italy                2                0       Paraguay   \n",
      "\n",
      "   Win conditions  Attendance  Half-time Home Goals  Half-time Away Goals  \\\n",
      "56                    36502.0                     2                     1   \n",
      "61                     7903.0                     2                     1   \n",
      "65                    25811.0                     1                     0   \n",
      "\n",
      "                  Referee             Assistant 1                Assistant 2  \\\n",
      "56        LUTZ Jean (SUI)     BERANEK Alois (AUT)        TEJADA Carlos (MEX)   \n",
      "61  MITCHELL Robert (SCO)       LEMESIC Leo (YUG)     GARCIA Prudencio (USA)   \n",
      "65     ELLIS Arthur (ENG)  GARCIA Prudencio (USA)  DE LA SALLE Charles (FRA)   \n",
      "\n",
      "    RoundID  MatchID Home Team Initials Away Team Initials  \n",
      "56      208     1219                SWE                ITA  \n",
      "61      208     1228                SWE                PAR  \n",
      "65      208     1218                ITA                PAR  \n"
     ]
    }
   ],
   "source": [
    "# Your code here\n",
    "group3_1950 = df[(df[\"Year\"]==1950) & (df[\"Stage\"]== \"Group 3\")]\n",
    "print(group3_1950)"
   ]
  },
  {
   "cell_type": "markdown",
   "metadata": {},
   "source": [
    "Let's repeat the command above, but this time display **only the attendance column** for the Group 3 games. "
   ]
  },
  {
   "cell_type": "code",
   "execution_count": 13,
   "metadata": {},
   "outputs": [
    {
     "name": "stdout",
     "output_type": "stream",
     "text": [
      "56    36502.0\n",
      "61     7903.0\n",
      "65    25811.0\n",
      "Name: Attendance, dtype: float64\n"
     ]
    }
   ],
   "source": [
    "# Your code here\n",
    "print(group3_1950['Attendance'])"
   ]
  },
  {
   "cell_type": "markdown",
   "metadata": {},
   "source": [
    "Throughout the entire history of the World Cup as recorded in this dataset, **how many home games were played by the Netherlands**?\n",
    "\n",
    "(Remember that you can use the `len()` built-in function to find the number of rows in a DataFrame.)"
   ]
  },
  {
   "cell_type": "code",
   "execution_count": 14,
   "metadata": {},
   "outputs": [
    {
     "name": "stdout",
     "output_type": "stream",
     "text": [
      "32\n"
     ]
    }
   ],
   "source": [
    "# Your code here\n",
    "home_games_netherlands = df[df['Home Team Name']== 'Netherlands']\n",
    "print(len(home_games_netherlands))"
   ]
  },
  {
   "cell_type": "markdown",
   "metadata": {},
   "source": [
    "**How many games were played by the Netherlands in total**?"
   ]
  },
  {
   "cell_type": "code",
   "execution_count": 15,
   "metadata": {},
   "outputs": [
    {
     "name": "stdout",
     "output_type": "stream",
     "text": [
      "32\n"
     ]
    }
   ],
   "source": [
    "# Your code here\n",
    "total_games_netherlands = df[df['Home Team Name']== 'Netherlands']\n",
    "print(len(total_games_netherlands))"
   ]
  },
  {
   "cell_type": "markdown",
   "metadata": {},
   "source": [
    "Next, let's try and figure out **how many games the USA played in the 2014 World Cup**."
   ]
  },
  {
   "cell_type": "code",
   "execution_count": 18,
   "metadata": {
    "scrolled": true
   },
   "outputs": [
    {
     "name": "stdout",
     "output_type": "stream",
     "text": [
      "0\n"
     ]
    }
   ],
   "source": [
    "# Your code here\n",
    "usa_2014 = df[(['Year'] == 2014) & ((df['Home Team Name']== 'USA') | (df['Away Team Name'] == 'USA'))]\n",
    "print(len(usa_2014))"
   ]
  },
  {
   "cell_type": "markdown",
   "metadata": {},
   "source": [
    "Now, let's try to find out **how many countries participated in the 1986 World Cup**."
   ]
  },
  {
   "cell_type": "markdown",
   "metadata": {},
   "source": [
    "Hint 1: As a first step, create a new dataset that only contains games in that year.\n",
    "\n",
    "Hint 2: Make sure you don't end up with duplicate country names. Consider using `set()` or `.unique()`."
   ]
  },
  {
   "cell_type": "code",
   "execution_count": 19,
   "metadata": {
    "scrolled": true
   },
   "outputs": [
    {
     "name": "stdout",
     "output_type": "stream",
     "text": [
      "24\n"
     ]
    }
   ],
   "source": [
    "# Your code here\n",
    "world_cup_1986 = df[df['Year']==1986]\n",
    "countries_1986 = set(world_cup_1986['Home Team Name']).union(set(world_cup_1986['Away Team Name']))\n",
    "print(len(countries_1986))"
   ]
  },
  {
   "cell_type": "markdown",
   "metadata": {},
   "source": [
    "## Changing Values and Creating New Columns"
   ]
  },
  {
   "cell_type": "markdown",
   "metadata": {},
   "source": [
    "In World Cup history, **how many matches had 5 goals or more in total**? Create a column `\"Total Goals\"` to answer this question."
   ]
  },
  {
   "cell_type": "code",
   "execution_count": 20,
   "metadata": {},
   "outputs": [
    {
     "name": "stdout",
     "output_type": "stream",
     "text": [
      "     Year              Datetime        Stage             Stadium  \\\n",
      "0    1930  13 Jul 1930 - 15:00       Group 1             Pocitos   \n",
      "10   1930  19 Jul 1930 - 15:00       Group 1  Estadio Centenario   \n",
      "15   1930  26 Jul 1930 - 14:45   Semi-finals  Estadio Centenario   \n",
      "16   1930  27 Jul 1930 - 14:45   Semi-finals  Estadio Centenario   \n",
      "17   1930  30 Jul 1930 - 14:15         Final  Estadio Centenario   \n",
      "..    ...                   ...          ...                 ...   \n",
      "806  2014  23 Jun 2014 - 17:00       Group A    Estadio Nacional   \n",
      "810  2014  24 Jun 2014 - 16:00       Group C      Arena Pantanal   \n",
      "812  2014  25 Jun 2014 - 13:00       Group F   Estadio Beira-Rio   \n",
      "826  2014  08 Jul 2014 - 17:00   Semi-finals    Estadio Mineirao   \n",
      "848  2014  08 Jul 2014 - 17:00   Semi-finals    Estadio Mineirao   \n",
      "\n",
      "                City Home Team Name  Home Team Goals  Away Team Goals  \\\n",
      "0        Montevideo          France                4                1   \n",
      "10       Montevideo       Argentina                6                3   \n",
      "15       Montevideo       Argentina                6                1   \n",
      "16       Montevideo         Uruguay                6                1   \n",
      "17       Montevideo         Uruguay                4                2   \n",
      "..               ...            ...              ...              ...   \n",
      "806        Brasilia        Cameroon                1                4   \n",
      "810          Cuiaba           Japan                1                4   \n",
      "812    Porto Alegre         Nigeria                2                3   \n",
      "826  Belo Horizonte          Brazil                1                7   \n",
      "848  Belo Horizonte          Brazil                1                7   \n",
      "\n",
      "    Away Team Name Win conditions  ...  Half-time Home Goals  \\\n",
      "0           Mexico                 ...                     3   \n",
      "10          Mexico                 ...                     3   \n",
      "15             USA                 ...                     1   \n",
      "16      Yugoslavia                 ...                     3   \n",
      "17       Argentina                 ...                     1   \n",
      "..             ...            ...  ...                   ...   \n",
      "806         Brazil                 ...                     1   \n",
      "810       Colombia                 ...                     1   \n",
      "812      Argentina                 ...                     1   \n",
      "826        Germany                 ...                     0   \n",
      "848        Germany                 ...                     0   \n",
      "\n",
      "     Half-time Away Goals                 Referee              Assistant 1  \\\n",
      "0                       0  LOMBARDI Domingo (URU)    CRISTOPHE Henry (BEL)   \n",
      "10                      1    SAUCEDO Ulises (BOL)   ALONSO Gualberto (URU)   \n",
      "15                      0     LANGENUS Jean (BEL)     VALLEJO Gaspar (MEX)   \n",
      "16                      1     REGO Gilberto (BRA)     SAUCEDO Ulises (BOL)   \n",
      "17                      2     LANGENUS Jean (BEL)     SAUCEDO Ulises (BOL)   \n",
      "..                    ...                     ...                      ...   \n",
      "806                     2    ERIKSSON Jonas (SWE)  KLASENIUS Mathias (SWE)   \n",
      "810                     1     PROENCA Pedro (POR)    MIRANDA Bertino (POR)   \n",
      "812                     2    Nicola RIZZOLI (ITA)    Renato FAVERANI (ITA)   \n",
      "826                     5   RODRIGUEZ Marco (MEX)  TORRENTERA Marvin (MEX)   \n",
      "848                     5   RODRIGUEZ Marco (MEX)  TORRENTERA Marvin (MEX)   \n",
      "\n",
      "                    Assistant 2 RoundID    MatchID  Home Team Initials  \\\n",
      "0           REGO Gilberto (BRA)     201       1096                 FRA   \n",
      "10   RADULESCU Constantin (ROU)     201       1086                 ARG   \n",
      "15        WARNKEN Alberto (CHI)     202       1088                 ARG   \n",
      "16          BALWAY Thomas (FRA)     202       1101                 URU   \n",
      "17        CRISTOPHE Henry (BEL)     405       1087                 URU   \n",
      "..                          ...     ...        ...                 ...   \n",
      "806       WARNMARK Daniel (SWE)  255931  300186472                 CMR   \n",
      "810            TRIGO Jose (POR)  255931  300186457                 JPN   \n",
      "812        Andrea STEFANI (ITA)  255931  300186458                 NGA   \n",
      "826       QUINTERO Marcos (MEX)  255955  300186474                 BRA   \n",
      "848       QUINTERO Marcos (MEX)  255955  300186474                 BRA   \n",
      "\n",
      "    Away Team Initials Total Goals  \n",
      "0                  MEX           5  \n",
      "10                 MEX           9  \n",
      "15                 USA           7  \n",
      "16                 YUG           7  \n",
      "17                 ARG           6  \n",
      "..                 ...         ...  \n",
      "806                BRA           5  \n",
      "810                COL           5  \n",
      "812                ARG           5  \n",
      "826                GER           8  \n",
      "848                GER           8  \n",
      "\n",
      "[147 rows x 21 columns]\n"
     ]
    }
   ],
   "source": [
    "# Your code here\n",
    "df['Total Goals'] = df['Home Team Goals'] + df['Away Team Goals']\n",
    "print(df[df['Total Goals'] >= 5])"
   ]
  },
  {
   "cell_type": "markdown",
   "metadata": {},
   "source": [
    "Now **create a new column `\"Half-time Goals\"`** in `df` that includes both home and away values."
   ]
  },
  {
   "cell_type": "code",
   "execution_count": 21,
   "metadata": {},
   "outputs": [
    {
     "name": "stdout",
     "output_type": "stream",
     "text": [
      "   Year              Datetime    Stage         Stadium         City  \\\n",
      "0  1930  13 Jul 1930 - 15:00   Group 1         Pocitos  Montevideo    \n",
      "1  1930  13 Jul 1930 - 15:00   Group 4  Parque Central  Montevideo    \n",
      "2  1930  14 Jul 1930 - 12:45   Group 2  Parque Central  Montevideo    \n",
      "3  1930  14 Jul 1930 - 14:50   Group 3         Pocitos  Montevideo    \n",
      "4  1930  15 Jul 1930 - 16:00   Group 1  Parque Central  Montevideo    \n",
      "\n",
      "  Home Team Name  Home Team Goals  Away Team Goals Away Team Name  \\\n",
      "0         France                4                1         Mexico   \n",
      "1            USA                3                0        Belgium   \n",
      "2     Yugoslavia                2                1         Brazil   \n",
      "3        Romania                3                1           Peru   \n",
      "4      Argentina                1                0         France   \n",
      "\n",
      "  Win conditions  ...  Half-time Away Goals                 Referee  \\\n",
      "0                 ...                     0  LOMBARDI Domingo (URU)   \n",
      "1                 ...                     0       MACIAS Jose (ARG)   \n",
      "2                 ...                     0     TEJADA Anibal (URU)   \n",
      "3                 ...                     0   WARNKEN Alberto (CHI)   \n",
      "4                 ...                     0     REGO Gilberto (BRA)   \n",
      "\n",
      "                Assistant 1                 Assistant 2 RoundID MatchID  \\\n",
      "0     CRISTOPHE Henry (BEL)         REGO Gilberto (BRA)     201    1096   \n",
      "1  MATEUCCI Francisco (URU)       WARNKEN Alberto (CHI)     201    1090   \n",
      "2   VALLARINO Ricardo (URU)         BALWAY Thomas (FRA)     201    1093   \n",
      "3       LANGENUS Jean (BEL)    MATEUCCI Francisco (URU)     201    1098   \n",
      "4      SAUCEDO Ulises (BOL)  RADULESCU Constantin (ROU)     201    1085   \n",
      "\n",
      "   Home Team Initials  Away Team Initials Total Goals Half-time Goals  \n",
      "0                 FRA                 MEX           5               3  \n",
      "1                 USA                 BEL           3               2  \n",
      "2                 YUG                 BRA           3               2  \n",
      "3                 ROU                 PER           4               1  \n",
      "4                 ARG                 FRA           1               0  \n",
      "\n",
      "[5 rows x 22 columns]\n"
     ]
    }
   ],
   "source": [
    "# Your code here\n",
    "df['Half-time Goals'] = df['Half-time Home Goals'] + df['Half-time Away Goals']\n",
    "print(df.head())"
   ]
  },
  {
   "cell_type": "code",
   "execution_count": 22,
   "metadata": {},
   "outputs": [
    {
     "data": {
      "text/plain": [
       "Index(['Year', 'Datetime', 'Stage', 'Stadium', 'City', 'Home Team Name',\n",
       "       'Home Team Goals', 'Away Team Goals', 'Away Team Name',\n",
       "       'Win conditions', 'Attendance', 'Half-time Home Goals',\n",
       "       'Half-time Away Goals', 'Referee', 'Assistant 1', 'Assistant 2',\n",
       "       'RoundID', 'MatchID', 'Home Team Initials', 'Away Team Initials',\n",
       "       'Total Goals', 'Half-time Goals'],\n",
       "      dtype='object')"
      ]
     },
     "execution_count": 22,
     "metadata": {},
     "output_type": "execute_result"
    }
   ],
   "source": [
    "# Run this cell without changes to see your new column\n",
    "df.columns"
   ]
  },
  {
   "cell_type": "markdown",
   "metadata": {},
   "source": [
    "Run the code below. You'll notice that for Korea, there are records for both North-Korea (Korea DPR) and South-Korea (Korea Republic). "
   ]
  },
  {
   "cell_type": "code",
   "execution_count": 23,
   "metadata": {},
   "outputs": [
    {
     "data": {
      "text/plain": [
       "179         Korea DPR\n",
       "187         Korea DPR\n",
       "374    Korea Republic\n",
       "386    Korea Republic\n",
       "434    Korea Republic\n",
       "444    Korea Republic\n",
       "480    Korea Republic\n",
       "524    Korea Republic\n",
       "593    Korea Republic\n",
       "609    Korea Republic\n",
       "635    Korea Republic\n",
       "642    Korea Republic\n",
       "655    Korea Republic\n",
       "710    Korea Republic\n",
       "753         Korea DPR\n",
       "802    Korea Republic\n",
       "818    Korea Republic\n",
       "Name: Home Team Name, dtype: object"
      ]
     },
     "execution_count": 23,
     "metadata": {},
     "output_type": "execute_result"
    }
   ],
   "source": [
    "# Run this cell without changes\n",
    "\n",
    "# Display all records containing the string 'Korea'\n",
    "df.loc[df['Home Team Name'].str.contains('Korea'), 'Home Team Name']"
   ]
  },
  {
   "cell_type": "markdown",
   "metadata": {},
   "source": [
    "Imagine that, for some reason, we simply want Korea listed as one entry, so we want to replace every \"Home Team Name\" and \"Away Team Name\" entry that contains \"Korea\" to simply \"Korea\". In the same way, we want to change the columns \"Home Team Initials\" and \"Away Team Initials\" to NSK (North & South Korea) instead of \"KOR\" and \"PRK\". "
   ]
  },
  {
   "cell_type": "code",
   "execution_count": 24,
   "metadata": {},
   "outputs": [],
   "source": [
    "# Update the 'Home Team Name' and 'Home Team Initials' columns \n",
    "df.loc[df['Home Team Name'].str.contains('Korea'), 'Home Team Name'] = 'Korea'\n",
    "df.loc[df['Away Team Name'].str.contains('Korea'), 'Away Team Name'] = 'Korea'"
   ]
  },
  {
   "cell_type": "markdown",
   "metadata": {},
   "source": [
    "Make sure to verify your answer!"
   ]
  },
  {
   "cell_type": "code",
   "execution_count": 25,
   "metadata": {},
   "outputs": [
    {
     "name": "stdout",
     "output_type": "stream",
     "text": [
      "     Year              Datetime           Stage  \\\n",
      "80   1954  17 Jun 1954 - 18:00          Group 2   \n",
      "88   1954  20 Jun 1954 - 17:00          Group 2   \n",
      "171  1966  12 Jul 1966 - 19:30          Group 4   \n",
      "179  1966  15 Jul 1966 - 19:30          Group 4   \n",
      "187  1966  19 Jul 1966 - 19:30          Group 4   \n",
      "195  1966  23 Jul 1966 - 15:00   Quarter-finals   \n",
      "364  1986  02 Jun 1986 - 12:00          Group A   \n",
      "374  1986  05 Jun 1986 - 16:00          Group A   \n",
      "386  1986  10 Jun 1986 - 12:00          Group A   \n",
      "421  1990  12 Jun 1990 - 17:00          Group E   \n",
      "434  1990  17 Jun 1990 - 21:00          Group E   \n",
      "444  1990  21 Jun 1990 - 17:00          Group E   \n",
      "464  1994  17 Jun 1994 - 19:30          Group C   \n",
      "480  1994  23 Jun 1994 - 19:30          Group C   \n",
      "490  1994  27 Jun 1994 - 16:00          Group C   \n",
      "524  1998  13 Jun 1998 - 17:30          Group E   \n",
      "542  1998  20 Jun 1998 - 21:00          Group E   \n",
      "556  1998  25 Jun 1998 - 16:00          Group E   \n",
      "593  2002  04 Jun 2002 - 20:30          Group D   \n",
      "609  2002  10 Jun 2002 - 15:30          Group D   \n",
      "625  2002  14 Jun 2002 - 20:30          Group D   \n",
      "635  2002  18 Jun 2002 - 20:30      Round of 16   \n",
      "639  2002  22 Jun 2002 - 15:30   Quarter-finals   \n",
      "640  2002  25 Jun 2002 - 20:30      Semi-finals   \n",
      "642  2002  29 Jun 2002 - 20:00      Third place   \n",
      "655  2006  13 Jun 2006 - 15:00          Group G   \n",
      "672  2006  18 Jun 2006 - 21:00          Group G   \n",
      "691  2006  23 Jun 2006 - 21:00          Group G   \n",
      "710  2010  12 Jun 2010 - 13:30          Group B   \n",
      "721  2010  15 Jun 2010 - 20:30          Group G   \n",
      "725  2010  17 Jun 2010 - 13:30          Group B   \n",
      "737  2010  21 Jun 2010 - 13:30          Group G   \n",
      "742  2010  22 Jun 2010 - 20:30          Group B   \n",
      "753  2010  25 Jun 2010 - 16:00          Group G   \n",
      "756  2010  26 Jun 2010 - 16:00      Round of 16   \n",
      "788  2014  17 Jun 2014 - 18:00          Group H   \n",
      "802  2014  22 Jun 2014 - 16:00          Group H   \n",
      "818  2014  26 Jun 2014 - 17:00          Group H   \n",
      "\n",
      "                               Stadium                                City  \\\n",
      "80                            Hardturm                             Zurich    \n",
      "88                          Charmilles                             Geneva    \n",
      "171                      Ayresome Park                      Middlesbrough    \n",
      "179                      Ayresome Park                      Middlesbrough    \n",
      "187                      Ayresome Park                      Middlesbrough    \n",
      "195                      Goodison Park                          Liverpool    \n",
      "364     Estadio Ol�mpico Universitario                        Mexico City    \n",
      "374     Estadio Ol�mpico Universitario                        Mexico City    \n",
      "386                         Cuauhtemoc                             Puebla    \n",
      "421             Marc Antonio Bentegodi                             Verona    \n",
      "434                        Dacia Arena                              Udine    \n",
      "444                             Friuli                              Udine    \n",
      "464                        Cotton Bowl                             Dallas    \n",
      "480                    Foxboro Stadium                             Boston    \n",
      "490                        Cotton Bowl                             Dallas    \n",
      "524                   Stade de Gerland                               Lyon    \n",
      "542                    Stade V�lodrome                         Marseilles    \n",
      "556                   Parc des Princes                              Paris    \n",
      "593           Busan Asiad Main Stadium                              Busan    \n",
      "609            Daegu World Cup Stadium                              Daegu    \n",
      "625           Incheon Football Stadium                            Incheon    \n",
      "635          Daejeon World Cup Stadium                            Daejeon    \n",
      "639          Gwangju World Cup Stadium                            Gwangju    \n",
      "640            Seoul World Cup Stadium                              Seoul    \n",
      "642            Daegu World Cup Stadium                              Daegu    \n",
      "655  FIFA World Cup Stadium, Frankfurt                     Frankfurt/Main    \n",
      "672                     Zentralstadion                            Leipzig    \n",
      "691    FIFA World Cup Stadium, Hanover                            Hanover    \n",
      "710             Port Elizabeth Stadium  Nelson Mandela Bay/Port Elizabeth    \n",
      "721                 Ellis Park Stadium                       Johannesburg    \n",
      "725                Soccer City Stadium                       Johannesburg    \n",
      "737                  Cape Town Stadium                          Cape Town    \n",
      "742                     Durban Stadium                             Durban    \n",
      "753                   Mbombela Stadium                          Nelspruit    \n",
      "756             Port Elizabeth Stadium  Nelson Mandela Bay/Port Elizabeth    \n",
      "788                     Arena Pantanal                             Cuiaba    \n",
      "802                  Estadio Beira-Rio                       Porto Alegre    \n",
      "818                 Arena de Sao Paulo                          Sao Paulo    \n",
      "\n",
      "    Home Team Name  Home Team Goals  Away Team Goals Away Team Name  \\\n",
      "80         Hungary                9                0          Korea   \n",
      "88          Turkey                7                0          Korea   \n",
      "171   Soviet Union                3                0          Korea   \n",
      "179          Korea                1                1          Chile   \n",
      "187          Korea                1                0          Italy   \n",
      "195       Portugal                5                3          Korea   \n",
      "364      Argentina                3                1          Korea   \n",
      "374          Korea                1                1       Bulgaria   \n",
      "386          Korea                2                3          Italy   \n",
      "421        Belgium                2                0          Korea   \n",
      "434          Korea                1                3          Spain   \n",
      "444          Korea                0                1        Uruguay   \n",
      "464          Spain                2                2          Korea   \n",
      "480          Korea                0                0        Bolivia   \n",
      "490        Germany                3                2          Korea   \n",
      "524          Korea                1                3         Mexico   \n",
      "542    Netherlands                5                0          Korea   \n",
      "556        Belgium                1                1          Korea   \n",
      "593          Korea                2                0         Poland   \n",
      "609          Korea                1                1            USA   \n",
      "625       Portugal                0                1          Korea   \n",
      "635          Korea                2                1          Italy   \n",
      "639          Spain                0                0          Korea   \n",
      "640        Germany                1                0          Korea   \n",
      "642          Korea                2                3         Turkey   \n",
      "655          Korea                2                1           Togo   \n",
      "672         France                1                1          Korea   \n",
      "691    Switzerland                2                0          Korea   \n",
      "710          Korea                2                0         Greece   \n",
      "721         Brazil                2                1          Korea   \n",
      "725      Argentina                4                1          Korea   \n",
      "737       Portugal                7                0          Korea   \n",
      "742        Nigeria                2                2          Korea   \n",
      "753          Korea                0                3  C�te d'Ivoire   \n",
      "756        Uruguay                2                1          Korea   \n",
      "788         Russia                1                1          Korea   \n",
      "802          Korea                2                4        Algeria   \n",
      "818          Korea                0                1        Belgium   \n",
      "\n",
      "                               Win conditions  ...  Half-time Away Goals  \\\n",
      "80                                             ...                     0   \n",
      "88                                             ...                     0   \n",
      "171                                            ...                     0   \n",
      "179                                            ...                     1   \n",
      "187                                            ...                     0   \n",
      "195                                            ...                     3   \n",
      "364                                            ...                     0   \n",
      "374                                            ...                     1   \n",
      "386                                            ...                     1   \n",
      "421                                            ...                     0   \n",
      "434                                            ...                     1   \n",
      "444                                            ...                     0   \n",
      "464                                            ...                     0   \n",
      "480                                            ...                     0   \n",
      "490                                            ...                     0   \n",
      "524                                            ...                     0   \n",
      "542                                            ...                     0   \n",
      "556                                            ...                     0   \n",
      "593                                            ...                     0   \n",
      "609                                            ...                     1   \n",
      "625                                            ...                     0   \n",
      "635                       Win on Golden Goal   ...                     0   \n",
      "639  Korea Republic win on penalties (3 - 5)   ...                     0   \n",
      "640                                            ...                     0   \n",
      "642                                            ...                     3   \n",
      "655                                            ...                     1   \n",
      "672                                            ...                     0   \n",
      "691                                            ...                     0   \n",
      "710                                            ...                     0   \n",
      "721                                            ...                     0   \n",
      "725                                            ...                     1   \n",
      "737                                            ...                     0   \n",
      "742                                            ...                     1   \n",
      "753                                            ...                     2   \n",
      "756                                            ...                     0   \n",
      "788                                            ...                     0   \n",
      "802                                            ...                     3   \n",
      "818                                            ...                     0   \n",
      "\n",
      "                              Referee                         Assistant 1  \\\n",
      "80             VINCENTI Raymond (FRA)             VON GUNTER Albert (SUI)   \n",
      "88               MARINO Esteban (URU)            ORLANDINI Vincenzo (ITA)   \n",
      "171            GARDEAZABAL Juan (ESP)            KANDIL Aly Hussein (EGY)   \n",
      "179          KANDIL Aly Hussein (EGY)              CRAWFORD William (SCO)   \n",
      "187             SCHWINTE Pierre (FRA)                    ADAIR John (NIR)   \n",
      "195          ASHKENAZI Menachem (ISR)                   GALBA Karol (TCH)   \n",
      "364  SANCHEZ ARMINIO Victoriano (ESP)          GONZALEZ ROA Gabriel (PAR)   \n",
      "374     AL SHANAR Fallaj Khuzam (KSA)                     IGNA Ioan (ROU)   \n",
      "386                 SOCHA David (USA)                 URREA Joaquin (MEX)   \n",
      "421               MAURO Vincent (USA)                   SNODDY Alan (NIR)   \n",
      "434    JACOME GUERRERO Elias V. (ECU)               MAGNI Pierluigi (ITA)   \n",
      "444               LANESE Tullio (ITA)           DIRAMBA Jean Fidele (GAB)   \n",
      "464             MIKKELSEN Peter (DEN)  CHRISTENSEN Carl-Johan Meyer (DEN)   \n",
      "480              MOTTRAM Leslie (SCO)                   MATTHYS Luc (BEL)   \n",
      "490                QUINIOU Joel (FRA)               IVANOV Valentin (RUS)   \n",
      "524                BENKO Gunter (AUT)                   FRED Lencie (VAN)   \n",
      "542              WOJCIK Ryszard (POL)               POCIEGIEL Jacek (POL)   \n",
      "556              REZENDE Marcio (BRA)                 PINTO Arnaldo (BRA)   \n",
      "593                  RUIZ Oscar (COL)                  DORIRI Elise (VAN)   \n",
      "609                   MEIER Urs (SUI)                 BEREUTER Egon (AUT)   \n",
      "625               SANCHEZ Angel (ARG)                  ALTRAIFI Ali (KSA)   \n",
      "635                MORENO Byron (ECU)               RATTALINO Jorge (ARG)   \n",
      "639           EL GHANDOUR Gamal (EGY)                 TOMUSANGE Ali (UGA)   \n",
      "640                   MEIER Urs (SUI)              ARNAULT Frederic (FRA)   \n",
      "642                   MANE Saad (KUW)                  ALTRAIFI Ali (KSA)   \n",
      "655                 POLL Graham (ENG)                  SHARP Philip (ENG)   \n",
      "672            ARCHUNDIA Benito (MEX)                  RAMIREZ Jose (MEX)   \n",
      "691            ELIZONDO Horacio (ARG)                  GARCIA Dario (ARG)   \n",
      "710              HESTER Michael (NZL)             HINTZ Jan Hendrik (NZL)   \n",
      "721               KASSAI Viktor (HUN)                    EROS Gabor (HUN)   \n",
      "725          DE BLEECKERE Frank (BEL)                 HERMANS Peter (BEL)   \n",
      "737                  POZO Pablo (CHI)             BASUALTO Patricio (CHI)   \n",
      "742        Oleg�rio BENQUEREN�A (POR)                 CARDINAL Jose (POR)   \n",
      "753    Alberto UNDIANO MALLENCO (ESP)               MARTINEZ Fermin (ESP)   \n",
      "756              Wolfgang STARK (GER)            SALVER Jan-Hendrik (GER)   \n",
      "788               PITANA Nestor (ARG)                MAIDANA Hernan (ARG)   \n",
      "802               ROLDAN Wilmar (COL)                  DIAZ Eduardo (COL)   \n",
      "818                Ben WILLIAMS (AUS)                 CREAM Matthew (AUS)   \n",
      "\n",
      "                  Assistant 2   RoundID    MatchID  Home Team Initials  \\\n",
      "80         STEINER Carl (AUT)       211       1294                 HUN   \n",
      "88   SCHONHOLZER Ernest (SUI)       211       1304                 TUR   \n",
      "171    DIENST Gottfried (SUI)       238       1710                 URS   \n",
      "179          FINNEY Jim (ENG)       238       1609                 PRK   \n",
      "187         TAYLOR John (ENG)       238       1679                 PRK   \n",
      "195     SCHWINTE Pierre (FRA)       239       1702                 POR   \n",
      "364  DIAZ PALACIO Jesus (COL)       308        395                 ARG   \n",
      "374      BUTENKO Valeri (RUS)       308        460                 KOR   \n",
      "386     AL SHARIF Jamal (SYR)       308        643                 KOR   \n",
      "421     COURTNEY George (ENG)       322         57                 BEL   \n",
      "434        LOUSTAU Juan (ARG)       322        175                 KOR   \n",
      "444         JOUINI Neji (TUN)       322        290                 KOR   \n",
      "464         PEARSON Roy (ENG)       337       3050                 ESP   \n",
      "480     EVERSTIG Mikael (SWE)       337       3065                 KOR   \n",
      "490  HASSAN Abdel-Magid (EGY)       337       3076                 GER   \n",
      "524     SCHNEIDER Erich (GER)      1014       8732                 KOR   \n",
      "542        DUPANOV Yuri (BLR)      1014       8749                 NED   \n",
      "556   ARANGO Jorge Luis (COL)      1014       8765                 BEL   \n",
      "593       LINDBERG Leif (SWE)  43950100   43950014                 KOR   \n",
      "609       TOMUSANGE Ali (UGA)  43950100   43950030                 KOR   \n",
      "625      SZEKELY Ferenc (HUN)  43950100   43950047                 POR   \n",
      "635      SZEKELY Ferenc (HUN)  43950200   43950056                 KOR   \n",
      "639   RAGOONATH Michael (TRI)  43950300   43950059                 ESP   \n",
      "640         AMLER Evzen (CZE)  43950400   43950061                 GER   \n",
      "642      VERGARA Hector (CAN)  43950500   43950063                 KOR   \n",
      "655        TURNER Glenn (ENG)  97410100   97410014                 KOR   \n",
      "672      VERGARA Hector (CAN)  97410100   97410029                 FRA   \n",
      "691       OTERO Rodolfo (ARG)  97410100   97410046                 SUI   \n",
      "710     MAKASINI Tevita (TGA)    249722  300061459                 KOR   \n",
      "721         VAMOS Tibor (HUN)    249722  300061490                 BRA   \n",
      "725      VROMANS Walter (BEL)    249722  300061458                 ARG   \n",
      "737   MONDRIA Francisco (CHI)    249722  300061487                 POR   \n",
      "742     MIRANDA Bertino (POR)    249722  300111115                 NGA   \n",
      "753          YUSTE Juan (ESP)    249722  300061486                 PRK   \n",
      "756         PICKEL Mike (GER)    249717  300061504                 URU   \n",
      "788  BELATTI Juan Pablo (ARG)    255931  300186499                 RUS   \n",
      "802   LESCANO Christian (ECU)    255931  300186495                 KOR   \n",
      "818          ANAZ Hakan (AUS)    255931  300186480                 KOR   \n",
      "\n",
      "     Away Team Initials Total Goals Half-time Goals  \n",
      "80                  KOR           9               4  \n",
      "88                  KOR           7               4  \n",
      "171                 PRK           3               2  \n",
      "179                 CHI           2               1  \n",
      "187                 ITA           1               1  \n",
      "195                 PRK           8               5  \n",
      "364                 KOR           4               2  \n",
      "374                 BUL           2               1  \n",
      "386                 ITA           5               1  \n",
      "421                 KOR           2               0  \n",
      "434                 ESP           4               2  \n",
      "444                 URU           1               0  \n",
      "464                 KOR           4               0  \n",
      "480                 BOL           0               0  \n",
      "490                 KOR           5               3  \n",
      "524                 MEX           4               1  \n",
      "542                 KOR           5               2  \n",
      "556                 KOR           2               1  \n",
      "593                 POL           2               1  \n",
      "609                 USA           2               1  \n",
      "625                 KOR           1               0  \n",
      "635                 ITA           3               0  \n",
      "639                 KOR           0               0  \n",
      "640                 KOR           1               0  \n",
      "642                 TUR           5               4  \n",
      "655                 TOG           3               1  \n",
      "672                 KOR           2               1  \n",
      "691                 KOR           2               1  \n",
      "710                 GRE           2               1  \n",
      "721                 PRK           3               0  \n",
      "725                 KOR           5               3  \n",
      "737                 PRK           7               1  \n",
      "742                 KOR           4               2  \n",
      "753                 CIV           3               2  \n",
      "756                 KOR           3               1  \n",
      "788                 KOR           2               0  \n",
      "802                 ALG           6               3  \n",
      "818                 BEL           1               0  \n",
      "\n",
      "[38 rows x 22 columns]\n"
     ]
    }
   ],
   "source": [
    "# Check the updated columns\n",
    "print(df[df['Home Team Name'].str.contains('Korea')|df['Away Team Name'].str.contains('Korea')])"
   ]
  },
  {
   "cell_type": "markdown",
   "metadata": {},
   "source": [
    "## Summary\n",
    "\n",
    "In this lab, you practiced accessing data within Pandas!"
   ]
  }
 ],
 "metadata": {
  "kernelspec": {
   "display_name": "Python 3",
   "language": "python",
   "name": "python3"
  },
  "language_info": {
   "codemirror_mode": {
    "name": "ipython",
    "version": 3
   },
   "file_extension": ".py",
   "mimetype": "text/x-python",
   "name": "python",
   "nbconvert_exporter": "python",
   "pygments_lexer": "ipython3",
   "version": "3.8.5"
  }
 },
 "nbformat": 4,
 "nbformat_minor": 2
}
